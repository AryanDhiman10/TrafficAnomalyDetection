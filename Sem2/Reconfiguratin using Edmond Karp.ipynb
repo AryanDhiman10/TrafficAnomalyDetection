{
  "nbformat": 4,
  "nbformat_minor": 0,
  "metadata": {
    "colab": {
      "provenance": []
    },
    "kernelspec": {
      "name": "python3",
      "display_name": "Python 3"
    },
    "language_info": {
      "name": "python"
    }
  },
  "cells": [
    {
      "cell_type": "code",
      "execution_count": 9,
      "metadata": {
        "colab": {
          "base_uri": "https://localhost:8080/"
        },
        "id": "Uajs1-IA4VmH",
        "outputId": "04c6f6de-a718-49be-cb6c-4cb07f6bf9d8"
      },
      "outputs": [
        {
          "output_type": "stream",
          "name": "stdout",
          "text": [
            "Initial flow state:\n",
            "Flow matrix:\n",
            "  0   2   7   3 \n",
            "  1   0   4   7 \n",
            "  6   4   0   2 \n",
            "  5   6   1   0 \n",
            "Optimized flow state:\n",
            "Flow matrix:\n",
            "  0   0   1   0 \n",
            "  3   0   8   1 \n",
            " 12   0   0   0 \n",
            "  8  12   3   0 \n",
            "Maximum flow: 11\n"
          ]
        }
      ],
      "source": [
        "from collections import defaultdict, deque\n",
        "\n",
        "class Graph:\n",
        "    def __init__(self, vertices):\n",
        "        self.graph = defaultdict(dict)\n",
        "        self.V = vertices\n",
        "\n",
        "    def add_edge(self, u, v, capacity):\n",
        "        self.graph[u][v] = capacity\n",
        "\n",
        "    def bfs(self, s, t, parent):\n",
        "        visited = [False] * self.V\n",
        "        queue = deque()\n",
        "        queue.append(s)\n",
        "        visited[s] = True\n",
        "\n",
        "        while queue:\n",
        "            u = queue.popleft()\n",
        "\n",
        "            for v, capacity in self.graph[u].items():\n",
        "                if not visited[v] and capacity > 0:\n",
        "                    queue.append(v)\n",
        "                    visited[v] = True\n",
        "                    parent[v] = u\n",
        "\n",
        "        return visited[t]\n",
        "\n",
        "    def edmonds_karp(self, source, sink):\n",
        "        parent = [-1] * self.V\n",
        "        max_flow = 0\n",
        "\n",
        "        while self.bfs(source, sink, parent):\n",
        "            path_flow = float(\"inf\")\n",
        "            s = sink\n",
        "            while s != source:\n",
        "                path_flow = min(path_flow, self.graph[parent[s]][s])\n",
        "                s = parent[s]\n",
        "\n",
        "            max_flow += path_flow\n",
        "            v = sink\n",
        "            while v != source:\n",
        "                u = parent[v]\n",
        "                self.graph[u][v] -= path_flow\n",
        "                self.graph[v][u] += path_flow\n",
        "                v = parent[v]\n",
        "\n",
        "        return max_flow\n",
        "\n",
        "    def print_flow_matrix(self):\n",
        "        print(\"Flow matrix:\")\n",
        "        for u in range(self.V):\n",
        "            for v in range(self.V):\n",
        "                if v in self.graph[u]:\n",
        "                    print(f\"{self.graph[u][v]:3}\", end=\" \")\n",
        "                else:\n",
        "                    print(\"  0\", end=\" \")\n",
        "            print()\n",
        "\n",
        "# Example usage:\n",
        "N = 4\n",
        "graph = Graph(N)\n",
        "# Initialize flow matrix (example values)\n",
        "flow_matrix = [\n",
        "    [0, 2, 7, 3],\n",
        "    [1, 0, 4, 7],\n",
        "    [6, 4, 0, 2],\n",
        "    [5, 6, 1, 0]\n",
        "]\n",
        "# Add edges with flow capacity from flow_matrix\n",
        "for i in range(N):\n",
        "    for j in range(N):\n",
        "        if flow_matrix[i][j] > 0:\n",
        "            graph.add_edge(i, j, flow_matrix[i][j])\n",
        "\n",
        "source = 0\n",
        "sink = 3\n",
        "\n",
        "print(\"Initial flow state:\")\n",
        "graph.print_flow_matrix()\n",
        "\n",
        "max_flow = graph.edmonds_karp(source, sink)\n",
        "\n",
        "print(\"Optimized flow state:\")\n",
        "graph.print_flow_matrix()\n",
        "print(\"Maximum flow:\", max_flow)\n"
      ]
    }
  ]
}